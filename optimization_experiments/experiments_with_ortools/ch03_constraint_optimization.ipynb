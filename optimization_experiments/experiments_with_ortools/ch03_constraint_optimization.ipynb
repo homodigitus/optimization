{
 "cells": [
  {
   "cell_type": "markdown",
   "metadata": {},
   "source": [
    "# Constraint Optimization\n",
    "\n",
    "*Constraint optimization*, or *constraint programming* (CP), is the name given to identifying feasible solutions out of a very large set of candidates, where the problem can be modeled in terms of arbitrary constraints. CP problems arise in many scientific and engineering disciplines. (The word \"programming\" is a bit of a misnomer, similar to how \"computer\" once meant \"a person who computes\". Here, \"programming\" refers to the arrangement of a plan, rather than programming in a computer language.)\n",
    "\n",
    "CP is based on feasibility (finding a feasible solution) rather than optimization (finding an optimal solution) and focuses on the constraints and variables rather than the objective function. In fact, a CP problem may not even have an objective function — the goal may simply be to narrow down a vary large set of possible solutions to a more manageable subset by adding constraints to the problem."
   ]
  },
  {
   "cell_type": "markdown",
   "metadata": {},
   "source": [
    "## 1. CP-SAT Solver\n",
    "\n",
    "OR-Tools provides two solvers for constraint programming:\n",
    "\n",
    "* The CP-SAT solver\n",
    "* The original CP solver\n",
    "\n",
    "The CP-SAT solver is technologically superior to the original CP solver and should be preferred in almost all situations. The exceptions are small problems for which solutions can be found quickly using either solver. In those cases you may find that the original CP solver outperforms CP-SAT."
   ]
  },
  {
   "cell_type": "markdown",
   "metadata": {},
   "source": [
    "***example: finding a feasible solution***\n",
    "\n",
    "The following sections present several examples that illustrate how to use the CP-SAT solver. Let's start with a simple example problem in which there are:\n",
    "\n",
    "* Three variables, x, y, and z, each of which can take on the values: 0, 1, or 2.\n",
    "* One constraint: $x ≠ y$\n",
    "\n",
    "We'll start by showing how to use the CP-SAT solver to find a single feasible solution in all four of the supported languages (Python, C++, Java, and C#). While finding a feasible solution is trivial in this case, in more complex constraint programming problems it can be very difficult to determine whether there is a feasible solution."
   ]
  },
  {
   "cell_type": "markdown",
   "metadata": {},
   "source": [
    "The CP-SAT solver returns one of the status values shown in the table below. In this example, the value returned is `OPTIMAL`:\n",
    "\n",
    "* OPTIMAL : An optimal feasible solution was found.\n",
    "* FEASIBLE : A feasible solution was found, but we don't know if it's optimal.\n",
    "* INFEASIBLE: The problem was proven infeasible.\n",
    "* MODEL_INVALID : The given CpModelProto didn't pass the validation step. You can get a detailed error by calling ValidateCpModel(model_proto).\n",
    "* UNKNOWN : The status of the model is unknown because a search limit was reached."
   ]
  },
  {
   "cell_type": "code",
   "execution_count": 1,
   "metadata": {
    "ExecuteTime": {
     "end_time": "2019-07-08T12:26:56.884858Z",
     "start_time": "2019-07-08T12:26:56.653480Z"
    }
   },
   "outputs": [
    {
     "name": "stdout",
     "output_type": "stream",
     "text": [
      "x = 1\n",
      "y = 0\n",
      "z = 0\n"
     ]
    }
   ],
   "source": [
    "from __future__ import absolute_import\n",
    "from __future__ import division\n",
    "from __future__ import print_function\n",
    "from ortools.sat.python import cp_model\n",
    "\n",
    "# creates the model.\n",
    "model = cp_model.CpModel()\n",
    "\n",
    "# creates the variables.\n",
    "num_vals = 3\n",
    "x = model.NewIntVar(0, num_vals - 1, 'x')\n",
    "y = model.NewIntVar(0, num_vals - 1, 'y')\n",
    "z = model.NewIntVar(0, num_vals - 1, 'z')\n",
    "\n",
    "# creates the constraints.\n",
    "model.Add(x != y)\n",
    "\n",
    "# creates a solver and solves the model.\n",
    "solver = cp_model.CpSolver()\n",
    "status = solver.Solve(model)\n",
    "\n",
    "if status == cp_model.FEASIBLE:\n",
    "    print('x = %i' % solver.Value(x))\n",
    "    print('y = %i' % solver.Value(y))\n",
    "    print('z = %i' % solver.Value(z))"
   ]
  },
  {
   "cell_type": "markdown",
   "metadata": {},
   "source": [
    "***example: finding an optimal solution***\n",
    "\n",
    "Next, we'll show how to find an optimal solution to the problem in the previous section, with the additional objective: maximize $x + 2y + 3z$."
   ]
  },
  {
   "cell_type": "code",
   "execution_count": 2,
   "metadata": {
    "ExecuteTime": {
     "end_time": "2019-07-08T12:33:10.511463Z",
     "start_time": "2019-07-08T12:33:10.504484Z"
    }
   },
   "outputs": [],
   "source": [
    "class VarArraySolutionPrinter(cp_model.CpSolverSolutionCallback):\n",
    "    \"\"\"print intermediate solutions.\"\"\"\n",
    "    \n",
    "    def __init__(self, variables):\n",
    "        cp_model.CpSolverSolutionCallback.__init__(self)\n",
    "        self.__variables = variables\n",
    "        self.__solution_count = 0\n",
    "    \n",
    "    def on_solution_callback(self):\n",
    "        self.__solution_count += 1\n",
    "        for v in self.__variables:\n",
    "            print('%s=%i' % (v, self.Value(v)), end = ' ')\n",
    "        print()\n",
    "    \n",
    "    def solution_count(self):\n",
    "        return self.__solution_count"
   ]
  },
  {
   "cell_type": "code",
   "execution_count": 3,
   "metadata": {
    "ExecuteTime": {
     "end_time": "2019-07-08T12:36:06.635556Z",
     "start_time": "2019-07-08T12:36:06.617599Z"
    }
   },
   "outputs": [
    {
     "name": "stdout",
     "output_type": "stream",
     "text": [
      "x=0 y=1 z=0 \n",
      "x=1 y=2 z=0 \n",
      "x=1 y=2 z=1 \n",
      "x=1 y=2 z=2 \n",
      "x=1 y=0 z=2 \n",
      "x=1 y=0 z=1 \n",
      "x=2 y=0 z=1 \n",
      "x=2 y=1 z=1 \n",
      "x=2 y=1 z=2 \n",
      "x=2 y=0 z=2 \n",
      "x=0 y=1 z=2 \n",
      "x=0 y=1 z=1 \n",
      "x=0 y=2 z=1 \n",
      "x=0 y=2 z=2 \n",
      "x=1 y=0 z=0 \n",
      "x=2 y=0 z=0 \n",
      "x=2 y=1 z=0 \n",
      "x=0 y=2 z=0 \n",
      "Status = FEASIBLE\n",
      "Number of solutions found: 18\n"
     ]
    }
   ],
   "source": [
    "# creates the model.\n",
    "model = cp_model.CpModel()\n",
    "\n",
    "# creates the variables.\n",
    "num_vals = 3\n",
    "x = model.NewIntVar(0, num_vals - 1, 'x')\n",
    "y = model.NewIntVar(0, num_vals - 1, 'y')\n",
    "z = model.NewIntVar(0, num_vals - 1, 'z')\n",
    "\n",
    "# creates the constraints.\n",
    "model.Add(x != y)\n",
    "\n",
    "# create a solver and solve.\n",
    "solver = cp_model.CpSolver()\n",
    "solution_printer = VarArraySolutionPrinter([x, y, z])\n",
    "status = solver.SearchForAllSolutions(model, solution_printer)\n",
    "\n",
    "print('Status = %s' % solver.StatusName(status))\n",
    "print('Number of solutions found: %i' % solution_printer.solution_count())"
   ]
  },
  {
   "cell_type": "markdown",
   "metadata": {},
   "source": [
    "***example: display intermediate solutions***\n",
    "\n",
    "This section shows how to display all the intermediate solutions found by the solver while it searches for an optimal solution.\n",
    "\n",
    "As in the section Finding an optimal solution, we create an objective function by adding the following line of code, after the constraint."
   ]
  },
  {
   "cell_type": "code",
   "execution_count": 4,
   "metadata": {
    "ExecuteTime": {
     "end_time": "2019-07-08T12:39:02.852242Z",
     "start_time": "2019-07-08T12:39:02.844259Z"
    }
   },
   "outputs": [],
   "source": [
    "class VarArrayAndObjectiveSolutionPrinter(cp_model.CpSolverSolutionCallback):\n",
    "    \"\"\"Print intermediate solutions.\"\"\"\n",
    "\n",
    "    def __init__(self, variables):\n",
    "        cp_model.CpSolverSolutionCallback.__init__(self)\n",
    "        self.__variables = variables\n",
    "        self.__solution_count = 0\n",
    "\n",
    "    def on_solution_callback(self):\n",
    "        print('Solution %i' % self.__solution_count)\n",
    "        print('  objective value = %i' % self.ObjectiveValue())\n",
    "        for v in self.__variables:\n",
    "            print('  %s = %i' % (v, self.Value(v)), end=' ')\n",
    "        print()\n",
    "        self.__solution_count += 1\n",
    "\n",
    "    def solution_count(self):\n",
    "        return self.__solution_count"
   ]
  },
  {
   "cell_type": "code",
   "execution_count": 5,
   "metadata": {
    "ExecuteTime": {
     "end_time": "2019-07-08T12:42:30.950425Z",
     "start_time": "2019-07-08T12:42:30.930479Z"
    }
   },
   "outputs": [
    {
     "name": "stdout",
     "output_type": "stream",
     "text": [
      "Solution 0\n",
      "  objective value = 2\n",
      "  x = 0   y = 1   z = 0 \n",
      "Solution 1\n",
      "  objective value = 4\n",
      "  x = 0   y = 2   z = 0 \n",
      "Solution 2\n",
      "  objective value = 7\n",
      "  x = 0   y = 2   z = 1 \n",
      "Solution 3\n",
      "  objective value = 10\n",
      "  x = 0   y = 2   z = 2 \n",
      "Solution 4\n",
      "  objective value = 11\n",
      "  x = 1   y = 2   z = 2 \n",
      "Status = OPTIMAL\n",
      "Number of solutions found: 5\n"
     ]
    }
   ],
   "source": [
    "# creates the model.\n",
    "model = cp_model.CpModel()\n",
    "\n",
    "# creates the variables.\n",
    "num_vals = 3\n",
    "x = model.NewIntVar(0, num_vals - 1, 'x')\n",
    "y = model.NewIntVar(0, num_vals - 1, 'y')\n",
    "z = model.NewIntVar(0, num_vals - 1, 'z')\n",
    "\n",
    "# creates the constraints.\n",
    "model.Add(x != y)\n",
    "\n",
    "model.Maximize(x + 2 * y + 3 * z)\n",
    "\n",
    "# creates a solver and solves.\n",
    "solver = cp_model.CpSolver()\n",
    "solution_printer = VarArrayAndObjectiveSolutionPrinter([x, y, z])\n",
    "status = solver.SolveWithSolutionCallback(model, solution_printer)\n",
    "\n",
    "print('Status = %s' % solver.StatusName(status))\n",
    "print('Number of solutions found: %i' % solution_printer.solution_count())"
   ]
  },
  {
   "cell_type": "markdown",
   "metadata": {},
   "source": [
    "## 2. Original CP Solver\n",
    "\n",
    "(CP-SAT solver is recommended rather than the original cp solver)\n",
    "\n",
    "The decision builder is the main input to the original CP solver. It contains the following:\n",
    "\n",
    "* vars — An array containing the variables for the problem.\n",
    "* A rule for choosing the next variable to assign a value to.\n",
    "* A rule for choosing the next value to assign to that variable."
   ]
  },
  {
   "cell_type": "code",
   "execution_count": 6,
   "metadata": {
    "ExecuteTime": {
     "end_time": "2019-07-08T12:56:25.652586Z",
     "start_time": "2019-07-08T12:56:25.514953Z"
    }
   },
   "outputs": [
    {
     "name": "stdout",
     "output_type": "stream",
     "text": [
      "x = 0 y = 1 z = 0\n",
      "x = 0 y = 1 z = 1\n",
      "x = 0 y = 1 z = 2\n",
      "x = 0 y = 2 z = 0\n",
      "x = 0 y = 2 z = 1\n",
      "x = 0 y = 2 z = 2\n",
      "x = 1 y = 0 z = 0\n",
      "x = 1 y = 0 z = 1\n",
      "x = 1 y = 0 z = 2\n",
      "x = 1 y = 2 z = 0\n",
      "x = 1 y = 2 z = 1\n",
      "x = 1 y = 2 z = 2\n",
      "x = 2 y = 0 z = 0\n",
      "x = 2 y = 0 z = 1\n",
      "x = 2 y = 0 z = 2\n",
      "x = 2 y = 1 z = 0\n",
      "x = 2 y = 1 z = 1\n",
      "x = 2 y = 1 z = 2\n",
      "\n",
      "Number of solutions found: 18\n"
     ]
    }
   ],
   "source": [
    "from __future__ import print_function\n",
    "import sys\n",
    "from ortools.constraint_solver import pywrapcp\n",
    "\n",
    "def print_solution(solver, x, y, z):\n",
    "    count = 0\n",
    "    \n",
    "    while solver.NextSolution():\n",
    "        count += 1\n",
    "        print(\"x =\", x.Value(), \"y =\", y.Value(), \"z =\", z.Value())\n",
    "    print(\"\\nNumber of solutions found:\", count)\n",
    "\n",
    "solver = pywrapcp.Solver(\"simple_example\")\n",
    "\n",
    "# create the variables\n",
    "num_vals = 3\n",
    "x = solver.IntVar(0, num_vals - 1, \"x\")\n",
    "y = solver.IntVar(0, num_vals - 1, \"y\")\n",
    "z = solver.IntVar(0, num_vals - 1, \"z\")\n",
    "\n",
    "# create the constraints.\n",
    "solver.Add(x != y)\n",
    "\n",
    "# call the solver.\n",
    "db = solver.Phase([x, y, z], solver.CHOOSE_FIRST_UNBOUND, solver.ASSIGN_MIN_VALUE)\n",
    "solver.Solve(db)\n",
    "print_solution(solver, x, y, z)"
   ]
  },
  {
   "cell_type": "markdown",
   "metadata": {},
   "source": [
    "The main input to the original CP solver is the decision builder, which contains the variables for the problem and sets options for the solver.\n",
    "\n",
    "The code example above creates a decision builder using the Phase method (corresponding to the C++ method MakePhase).\n",
    "\n",
    "The term \"Phase\" refers to a phase of the search. In this simple example, there is just one phase, but for more complex problems, the decision builder can have more than one phase, so that the solver can employ different search strategies from one phase to the next.\n",
    "\n",
    "The Phase method has three input parameters:\n",
    "\n",
    "* vars — An array containing the variables for the problem, which in this case is [x, y, z].\n",
    "* IntVarStrategy — The rule for choosing the next unbound variable to assign a value. Here, the code uses the default CHOOSE_FIRST_UNBOUND, which means that at each step, the solver selects the first unbound variable in the order they occur in the variable array passed to the Phase method.\n",
    "* IntValueStrategy — The rule for choosing the next value to assign to a variable. Here the code uses the default ASSIGN_MIN_VALUE, which selects the smallest value that hasn't already been tried for the variable. This assigns values in increasing order. Another option is ASSIGN_MAX_VALUE, in which case the solver would assign values in decreasing order."
   ]
  },
  {
   "cell_type": "markdown",
   "metadata": {},
   "source": [
    "## 3. Cryptarithmetic Puzzles \n",
    "\n",
    "A cryptarithmetic puzzle is a mathematical exercise where the digits of some numbers are represented by letters (or symbols). Each letter represents a unique digit. The goal is to find the digits such that a given mathematical equation is verified:\n",
    "\n",
    "CP + IS + FUN =   TRUE\n",
    "\n",
    "One assignment of letters to digits yields the following equation:\n",
    "\n",
    "23 + 74 + 968 = 1065\n",
    "\n",
    "As with any optimization problem, we'll start by identifying variables and constraints. The variables are the letters, which can take on any single digit value.\n",
    "\n",
    "For CP + IS + FUN = TRUE, the constraints are as follows:\n",
    "\n",
    "* The equation: CP + IS + FUN = TRUE.\n",
    "* Each of the ten letters must be a different digit.\n",
    "* C, I, F, and T can't be zero (since we don't write leading zeros in numbers)."
   ]
  },
  {
   "cell_type": "markdown",
   "metadata": {},
   "source": [
    "***CP-SAT***"
   ]
  },
  {
   "cell_type": "code",
   "execution_count": 7,
   "metadata": {
    "ExecuteTime": {
     "end_time": "2019-07-08T13:09:49.870028Z",
     "start_time": "2019-07-08T13:09:49.861052Z"
    }
   },
   "outputs": [],
   "source": [
    "from __future__ import print_function\n",
    "\n",
    "from ortools.sat.python import cp_model\n",
    "\n",
    "\n",
    "class VarArraySolutionPrinter(cp_model.CpSolverSolutionCallback):\n",
    "    \"\"\"Print intermediate solutions.\"\"\"\n",
    "\n",
    "    def __init__(self, variables):\n",
    "        cp_model.CpSolverSolutionCallback.__init__(self)\n",
    "        self.__variables = variables\n",
    "        self.__solution_count = 0\n",
    "\n",
    "    def on_solution_callback(self):\n",
    "        self.__solution_count += 1\n",
    "        for v in self.__variables:\n",
    "            print('%s=%i' % (v, self.Value(v)), end=' ')\n",
    "        print()\n",
    "\n",
    "    def solution_count(self):\n",
    "        return self.__solution_count"
   ]
  },
  {
   "cell_type": "code",
   "execution_count": 8,
   "metadata": {
    "ExecuteTime": {
     "end_time": "2019-07-08T13:21:18.076904Z",
     "start_time": "2019-07-08T13:21:17.990136Z"
    }
   },
   "outputs": [
    {
     "name": "stdout",
     "output_type": "stream",
     "text": [
      "C=2 P=3 I=7 S=4 F=9 U=6 N=8 T=1 R=0 E=5 \n",
      "C=2 P=4 I=7 S=3 F=9 U=6 N=8 T=1 R=0 E=5 \n",
      "C=2 P=5 I=7 S=3 F=9 U=4 N=8 T=1 R=0 E=6 \n",
      "C=2 P=8 I=7 S=3 F=9 U=4 N=5 T=1 R=0 E=6 \n",
      "C=2 P=8 I=7 S=3 F=9 U=6 N=4 T=1 R=0 E=5 \n",
      "C=3 P=7 I=6 S=2 F=9 U=8 N=5 T=1 R=0 E=4 \n",
      "C=6 P=7 I=3 S=2 F=9 U=8 N=5 T=1 R=0 E=4 \n",
      "C=6 P=5 I=3 S=2 F=9 U=8 N=7 T=1 R=0 E=4 \n",
      "C=3 P=5 I=6 S=2 F=9 U=8 N=7 T=1 R=0 E=4 \n",
      "C=3 P=8 I=6 S=4 F=9 U=2 N=5 T=1 R=0 E=7 \n",
      "C=3 P=7 I=6 S=5 F=9 U=8 N=2 T=1 R=0 E=4 \n",
      "C=3 P=8 I=6 S=5 F=9 U=2 N=4 T=1 R=0 E=7 \n",
      "C=3 P=5 I=6 S=4 F=9 U=2 N=8 T=1 R=0 E=7 \n",
      "C=3 P=4 I=6 S=5 F=9 U=2 N=8 T=1 R=0 E=7 \n",
      "C=3 P=2 I=6 S=5 F=9 U=8 N=7 T=1 R=0 E=4 \n",
      "C=3 P=4 I=6 S=8 F=9 U=2 N=5 T=1 R=0 E=7 \n",
      "C=3 P=2 I=6 S=7 F=9 U=8 N=5 T=1 R=0 E=4 \n",
      "C=3 P=5 I=6 S=8 F=9 U=2 N=4 T=1 R=0 E=7 \n",
      "C=3 P=5 I=6 S=7 F=9 U=8 N=2 T=1 R=0 E=4 \n",
      "C=2 P=5 I=7 S=6 F=9 U=8 N=3 T=1 R=0 E=4 \n",
      "C=2 P=5 I=7 S=8 F=9 U=4 N=3 T=1 R=0 E=6 \n",
      "C=2 P=6 I=7 S=5 F=9 U=8 N=3 T=1 R=0 E=4 \n",
      "C=2 P=4 I=7 S=8 F=9 U=6 N=3 T=1 R=0 E=5 \n",
      "C=2 P=3 I=7 S=8 F=9 U=6 N=4 T=1 R=0 E=5 \n",
      "C=2 P=8 I=7 S=5 F=9 U=4 N=3 T=1 R=0 E=6 \n",
      "C=2 P=8 I=7 S=4 F=9 U=6 N=3 T=1 R=0 E=5 \n",
      "C=2 P=6 I=7 S=3 F=9 U=8 N=5 T=1 R=0 E=4 \n",
      "C=2 P=5 I=7 S=3 F=9 U=8 N=6 T=1 R=0 E=4 \n",
      "C=2 P=3 I=7 S=5 F=9 U=4 N=8 T=1 R=0 E=6 \n",
      "C=2 P=3 I=7 S=5 F=9 U=8 N=6 T=1 R=0 E=4 \n",
      "C=2 P=3 I=7 S=6 F=9 U=8 N=5 T=1 R=0 E=4 \n",
      "C=2 P=3 I=7 S=8 F=9 U=4 N=5 T=1 R=0 E=6 \n",
      "C=4 P=3 I=5 S=8 F=9 U=2 N=6 T=1 R=0 E=7 \n",
      "C=5 P=3 I=4 S=8 F=9 U=2 N=6 T=1 R=0 E=7 \n",
      "C=6 P=2 I=3 S=7 F=9 U=8 N=5 T=1 R=0 E=4 \n",
      "C=7 P=3 I=2 S=6 F=9 U=8 N=5 T=1 R=0 E=4 \n",
      "C=7 P=3 I=2 S=8 F=9 U=4 N=5 T=1 R=0 E=6 \n",
      "C=6 P=4 I=3 S=8 F=9 U=2 N=5 T=1 R=0 E=7 \n",
      "C=5 P=3 I=4 S=6 F=9 U=2 N=8 T=1 R=0 E=7 \n",
      "C=4 P=3 I=5 S=6 F=9 U=2 N=8 T=1 R=0 E=7 \n",
      "C=5 P=6 I=4 S=3 F=9 U=2 N=8 T=1 R=0 E=7 \n",
      "C=7 P=4 I=2 S=3 F=9 U=6 N=8 T=1 R=0 E=5 \n",
      "C=7 P=3 I=2 S=4 F=9 U=6 N=8 T=1 R=0 E=5 \n",
      "C=6 P=2 I=3 S=5 F=9 U=8 N=7 T=1 R=0 E=4 \n",
      "C=7 P=3 I=2 S=5 F=9 U=4 N=8 T=1 R=0 E=6 \n",
      "C=6 P=4 I=3 S=5 F=9 U=2 N=8 T=1 R=0 E=7 \n",
      "C=6 P=5 I=3 S=4 F=9 U=2 N=8 T=1 R=0 E=7 \n",
      "C=7 P=5 I=2 S=3 F=9 U=4 N=8 T=1 R=0 E=6 \n",
      "C=4 P=6 I=5 S=3 F=9 U=2 N=8 T=1 R=0 E=7 \n",
      "C=6 P=5 I=3 S=8 F=9 U=2 N=4 T=1 R=0 E=7 \n",
      "C=6 P=5 I=3 S=7 F=9 U=8 N=2 T=1 R=0 E=4 \n",
      "C=7 P=5 I=2 S=8 F=9 U=4 N=3 T=1 R=0 E=6 \n",
      "C=7 P=5 I=2 S=6 F=9 U=8 N=3 T=1 R=0 E=4 \n",
      "C=5 P=8 I=4 S=6 F=9 U=2 N=3 T=1 R=0 E=7 \n",
      "C=4 P=8 I=5 S=6 F=9 U=2 N=3 T=1 R=0 E=7 \n",
      "C=4 P=8 I=5 S=3 F=9 U=2 N=6 T=1 R=0 E=7 \n",
      "C=5 P=8 I=4 S=3 F=9 U=2 N=6 T=1 R=0 E=7 \n",
      "C=7 P=8 I=2 S=3 F=9 U=4 N=5 T=1 R=0 E=6 \n",
      "C=7 P=8 I=2 S=3 F=9 U=6 N=4 T=1 R=0 E=5 \n",
      "C=7 P=8 I=2 S=4 F=9 U=6 N=3 T=1 R=0 E=5 \n",
      "C=7 P=8 I=2 S=5 F=9 U=4 N=3 T=1 R=0 E=6 \n",
      "C=6 P=8 I=3 S=5 F=9 U=2 N=4 T=1 R=0 E=7 \n",
      "C=6 P=8 I=3 S=4 F=9 U=2 N=5 T=1 R=0 E=7 \n",
      "C=6 P=7 I=3 S=5 F=9 U=8 N=2 T=1 R=0 E=4 \n",
      "C=7 P=6 I=2 S=5 F=9 U=8 N=3 T=1 R=0 E=4 \n",
      "C=7 P=3 I=2 S=5 F=9 U=8 N=6 T=1 R=0 E=4 \n",
      "C=7 P=4 I=2 S=8 F=9 U=6 N=3 T=1 R=0 E=5 \n",
      "C=7 P=3 I=2 S=8 F=9 U=6 N=4 T=1 R=0 E=5 \n",
      "C=5 P=6 I=4 S=8 F=9 U=2 N=3 T=1 R=0 E=7 \n",
      "C=4 P=6 I=5 S=8 F=9 U=2 N=3 T=1 R=0 E=7 \n",
      "C=7 P=6 I=2 S=3 F=9 U=8 N=5 T=1 R=0 E=4 \n",
      "C=7 P=5 I=2 S=3 F=9 U=8 N=6 T=1 R=0 E=4 \n",
      "\n",
      "Statistics\n",
      "  - status          : FEASIBLE\n",
      "  - conflicts       : 110\n",
      "  - branches        : 435\n",
      "  - wall time       : 0.069087 s\n",
      "  - solutions found : 72\n"
     ]
    }
   ],
   "source": [
    "# constraint programming engine\n",
    "model = cp_model.CpModel()\n",
    "\n",
    "base =  10\n",
    "\n",
    "c = model.NewIntVar(1, base - 1, 'C')\n",
    "p = model.NewIntVar(0, base - 1, 'P')\n",
    "i = model.NewIntVar(1, base - 1, 'I')\n",
    "s = model.NewIntVar(0, base - 1, 'S')\n",
    "f = model.NewIntVar(1, base - 1, 'F')\n",
    "u = model.NewIntVar(0, base - 1, 'U')\n",
    "n = model.NewIntVar(0, base - 1, 'N')\n",
    "t = model.NewIntVar(1, base - 1, 'T')\n",
    "r = model.NewIntVar(0, base - 1, 'R')\n",
    "e = model.NewIntVar(0, base - 1, 'E')\n",
    "\n",
    "# we need to group variables in a list to use the constraint AllDifferent.\n",
    "letters = [c, p, i, s, f, u, n, t, r, e]\n",
    "\n",
    "# verify that we have enough digits.\n",
    "assert base >= len(letters)\n",
    "\n",
    "# define constraints.\n",
    "model.AddAllDifferent(letters)\n",
    "\n",
    "# CP + IS + FUN = TRUE\n",
    "model.Add(c * base + p + i * base + s + f * base * base + u * base + n ==\n",
    "              t * base * base * base + r * base * base + u * base + e)\n",
    "\n",
    "# solve model.\n",
    "solver = cp_model.CpSolver()\n",
    "solution_printer = VarArraySolutionPrinter(letters)\n",
    "status = solver.SearchForAllSolutions(model, solution_printer)\n",
    "\n",
    "print()\n",
    "print('Statistics')\n",
    "print('  - status          : %s' % solver.StatusName(status))\n",
    "print('  - conflicts       : %i' % solver.NumConflicts())\n",
    "print('  - branches        : %i' % solver.NumBranches())\n",
    "print('  - wall time       : %f s' % solver.WallTime())\n",
    "print('  - solutions found : %i' % solution_printer.solution_count())"
   ]
  },
  {
   "cell_type": "markdown",
   "metadata": {},
   "source": [
    "***original CP***\n",
    "\n",
    "Next, we'll present the solution using the original CP solver.\n",
    "\n",
    "In this case we'll treat the base as a variable, so you can solve the equation for higher bases. (There can be no lower base solutions for CP + IS + FUN = TRUE since the ten letters must all be different.)"
   ]
  },
  {
   "cell_type": "code",
   "execution_count": 12,
   "metadata": {
    "ExecuteTime": {
     "end_time": "2019-07-08T13:25:51.192459Z",
     "start_time": "2019-07-08T13:25:51.158551Z"
    }
   },
   "outputs": [
    {
     "name": "stdout",
     "output_type": "stream",
     "text": [
      "[C(2), P(3), I(7), S(4), F(9), U(6), N(8), T(1), R(0), E(5)]\n",
      "[C(2), P(3), I(7), S(5), F(9), U(4), N(8), T(1), R(0), E(6)]\n",
      "[C(2), P(3), I(7), S(5), F(9), U(8), N(6), T(1), R(0), E(4)]\n",
      "[C(2), P(3), I(7), S(6), F(9), U(8), N(5), T(1), R(0), E(4)]\n",
      "[C(2), P(3), I(7), S(8), F(9), U(4), N(5), T(1), R(0), E(6)]\n",
      "[C(2), P(3), I(7), S(8), F(9), U(6), N(4), T(1), R(0), E(5)]\n",
      "[C(2), P(4), I(7), S(3), F(9), U(6), N(8), T(1), R(0), E(5)]\n",
      "[C(2), P(4), I(7), S(8), F(9), U(6), N(3), T(1), R(0), E(5)]\n",
      "[C(2), P(5), I(7), S(3), F(9), U(4), N(8), T(1), R(0), E(6)]\n",
      "[C(2), P(5), I(7), S(3), F(9), U(8), N(6), T(1), R(0), E(4)]\n",
      "[C(2), P(5), I(7), S(6), F(9), U(8), N(3), T(1), R(0), E(4)]\n",
      "[C(2), P(5), I(7), S(8), F(9), U(4), N(3), T(1), R(0), E(6)]\n",
      "[C(2), P(6), I(7), S(3), F(9), U(8), N(5), T(1), R(0), E(4)]\n",
      "[C(2), P(6), I(7), S(5), F(9), U(8), N(3), T(1), R(0), E(4)]\n",
      "[C(2), P(8), I(7), S(3), F(9), U(4), N(5), T(1), R(0), E(6)]\n",
      "[C(2), P(8), I(7), S(3), F(9), U(6), N(4), T(1), R(0), E(5)]\n",
      "[C(2), P(8), I(7), S(4), F(9), U(6), N(3), T(1), R(0), E(5)]\n",
      "[C(2), P(8), I(7), S(5), F(9), U(4), N(3), T(1), R(0), E(6)]\n",
      "[C(3), P(2), I(6), S(5), F(9), U(8), N(7), T(1), R(0), E(4)]\n",
      "[C(3), P(2), I(6), S(7), F(9), U(8), N(5), T(1), R(0), E(4)]\n",
      "[C(3), P(4), I(6), S(5), F(9), U(2), N(8), T(1), R(0), E(7)]\n",
      "[C(3), P(4), I(6), S(8), F(9), U(2), N(5), T(1), R(0), E(7)]\n",
      "[C(3), P(5), I(6), S(2), F(9), U(8), N(7), T(1), R(0), E(4)]\n",
      "[C(3), P(5), I(6), S(4), F(9), U(2), N(8), T(1), R(0), E(7)]\n",
      "[C(3), P(5), I(6), S(7), F(9), U(8), N(2), T(1), R(0), E(4)]\n",
      "[C(3), P(5), I(6), S(8), F(9), U(2), N(4), T(1), R(0), E(7)]\n",
      "[C(3), P(7), I(6), S(2), F(9), U(8), N(5), T(1), R(0), E(4)]\n",
      "[C(3), P(7), I(6), S(5), F(9), U(8), N(2), T(1), R(0), E(4)]\n",
      "[C(3), P(8), I(6), S(4), F(9), U(2), N(5), T(1), R(0), E(7)]\n",
      "[C(3), P(8), I(6), S(5), F(9), U(2), N(4), T(1), R(0), E(7)]\n",
      "[C(4), P(3), I(5), S(6), F(9), U(2), N(8), T(1), R(0), E(7)]\n",
      "[C(4), P(3), I(5), S(8), F(9), U(2), N(6), T(1), R(0), E(7)]\n",
      "[C(4), P(6), I(5), S(3), F(9), U(2), N(8), T(1), R(0), E(7)]\n",
      "[C(4), P(6), I(5), S(8), F(9), U(2), N(3), T(1), R(0), E(7)]\n",
      "[C(4), P(8), I(5), S(3), F(9), U(2), N(6), T(1), R(0), E(7)]\n",
      "[C(4), P(8), I(5), S(6), F(9), U(2), N(3), T(1), R(0), E(7)]\n",
      "[C(5), P(3), I(4), S(6), F(9), U(2), N(8), T(1), R(0), E(7)]\n",
      "[C(5), P(3), I(4), S(8), F(9), U(2), N(6), T(1), R(0), E(7)]\n",
      "[C(5), P(6), I(4), S(3), F(9), U(2), N(8), T(1), R(0), E(7)]\n",
      "[C(5), P(6), I(4), S(8), F(9), U(2), N(3), T(1), R(0), E(7)]\n",
      "[C(5), P(8), I(4), S(3), F(9), U(2), N(6), T(1), R(0), E(7)]\n",
      "[C(5), P(8), I(4), S(6), F(9), U(2), N(3), T(1), R(0), E(7)]\n",
      "[C(6), P(2), I(3), S(5), F(9), U(8), N(7), T(1), R(0), E(4)]\n",
      "[C(6), P(2), I(3), S(7), F(9), U(8), N(5), T(1), R(0), E(4)]\n",
      "[C(6), P(4), I(3), S(5), F(9), U(2), N(8), T(1), R(0), E(7)]\n",
      "[C(6), P(4), I(3), S(8), F(9), U(2), N(5), T(1), R(0), E(7)]\n",
      "[C(6), P(5), I(3), S(2), F(9), U(8), N(7), T(1), R(0), E(4)]\n",
      "[C(6), P(5), I(3), S(4), F(9), U(2), N(8), T(1), R(0), E(7)]\n",
      "[C(6), P(5), I(3), S(7), F(9), U(8), N(2), T(1), R(0), E(4)]\n",
      "[C(6), P(5), I(3), S(8), F(9), U(2), N(4), T(1), R(0), E(7)]\n",
      "[C(6), P(7), I(3), S(2), F(9), U(8), N(5), T(1), R(0), E(4)]\n",
      "[C(6), P(7), I(3), S(5), F(9), U(8), N(2), T(1), R(0), E(4)]\n",
      "[C(6), P(8), I(3), S(4), F(9), U(2), N(5), T(1), R(0), E(7)]\n",
      "[C(6), P(8), I(3), S(5), F(9), U(2), N(4), T(1), R(0), E(7)]\n",
      "[C(7), P(3), I(2), S(4), F(9), U(6), N(8), T(1), R(0), E(5)]\n",
      "[C(7), P(3), I(2), S(5), F(9), U(4), N(8), T(1), R(0), E(6)]\n",
      "[C(7), P(3), I(2), S(5), F(9), U(8), N(6), T(1), R(0), E(4)]\n",
      "[C(7), P(3), I(2), S(6), F(9), U(8), N(5), T(1), R(0), E(4)]\n",
      "[C(7), P(3), I(2), S(8), F(9), U(4), N(5), T(1), R(0), E(6)]\n",
      "[C(7), P(3), I(2), S(8), F(9), U(6), N(4), T(1), R(0), E(5)]\n",
      "[C(7), P(4), I(2), S(3), F(9), U(6), N(8), T(1), R(0), E(5)]\n",
      "[C(7), P(4), I(2), S(8), F(9), U(6), N(3), T(1), R(0), E(5)]\n",
      "[C(7), P(5), I(2), S(3), F(9), U(4), N(8), T(1), R(0), E(6)]\n",
      "[C(7), P(5), I(2), S(3), F(9), U(8), N(6), T(1), R(0), E(4)]\n",
      "[C(7), P(5), I(2), S(6), F(9), U(8), N(3), T(1), R(0), E(4)]\n",
      "[C(7), P(5), I(2), S(8), F(9), U(4), N(3), T(1), R(0), E(6)]\n",
      "[C(7), P(6), I(2), S(3), F(9), U(8), N(5), T(1), R(0), E(4)]\n",
      "[C(7), P(6), I(2), S(5), F(9), U(8), N(3), T(1), R(0), E(4)]\n",
      "[C(7), P(8), I(2), S(3), F(9), U(4), N(5), T(1), R(0), E(6)]\n",
      "[C(7), P(8), I(2), S(3), F(9), U(6), N(4), T(1), R(0), E(5)]\n",
      "[C(7), P(8), I(2), S(4), F(9), U(6), N(3), T(1), R(0), E(5)]\n",
      "[C(7), P(8), I(2), S(5), F(9), U(4), N(3), T(1), R(0), E(6)]\n"
     ]
    }
   ],
   "source": [
    "from __future__ import print_function\n",
    "from ortools.constraint_solver import pywrapcp\n",
    "from os import abort\n",
    "\n",
    "# Constraint programming engine\n",
    "solver = pywrapcp.Solver('CP is fun!');\n",
    "\n",
    "kBase = 10\n",
    "\n",
    "# Decision variables.\n",
    "digits = list(range(0, kBase))\n",
    "digits_without_zero = list(range(1, kBase))\n",
    "c = solver.IntVar(digits_without_zero, 'C');\n",
    "p = solver.IntVar(digits, 'P');\n",
    "i = solver.IntVar(digits_without_zero, 'I');\n",
    "s = solver.IntVar(digits, 'S');\n",
    "f = solver.IntVar(digits_without_zero, 'F');\n",
    "u = solver.IntVar(digits, 'U');\n",
    "n = solver.IntVar(digits, 'N');\n",
    "t = solver.IntVar(digits_without_zero, 'T');\n",
    "r = solver.IntVar(digits, 'R');\n",
    "e = solver.IntVar(digits, 'E');\n",
    "\n",
    "# We need to group variables in a list to use the constraint AllDifferent.\n",
    "letters = [c, p, i, s, f, u, n, t, r, e]\n",
    "\n",
    "# Verify that we have enough digits.\n",
    "assert kBase >= len(letters)\n",
    "\n",
    "# Define constraints.\n",
    "solver.Add(solver.AllDifferent(letters))\n",
    "\n",
    "# CP + IS + FUN = TRUE\n",
    "solver.Add (p + s + n + kBase * (c + i + u) + kBase * kBase * f ==\n",
    "              e + kBase * u + kBase * kBase * r + kBase * kBase * kBase * t)\n",
    "\n",
    "db = solver.Phase(letters, solver.INT_VAR_DEFAULT,\n",
    "                             solver.INT_VALUE_DEFAULT)\n",
    "solver.NewSearch(db)\n",
    "\n",
    "while solver.NextSolution():\n",
    "    print(letters)\n",
    "    # Is CP + IS + FUN = TRUE?\n",
    "    assert (kBase*c.Value() +  p.Value() + kBase*i.Value() + s.Value() +\n",
    "            kBase*kBase*f.Value() + kBase*u.Value() + n.Value() ==\n",
    "            kBase*kBase*kBase*t.Value() + kBase*kBase*r.Value() +\n",
    "            kBase*u.Value() + e.Value())\n",
    "\n",
    "solver.EndSearch()"
   ]
  },
  {
   "cell_type": "code",
   "execution_count": null,
   "metadata": {},
   "outputs": [],
   "source": []
  },
  {
   "cell_type": "code",
   "execution_count": null,
   "metadata": {},
   "outputs": [],
   "source": []
  },
  {
   "cell_type": "code",
   "execution_count": null,
   "metadata": {},
   "outputs": [],
   "source": []
  },
  {
   "cell_type": "code",
   "execution_count": null,
   "metadata": {},
   "outputs": [],
   "source": []
  },
  {
   "cell_type": "code",
   "execution_count": null,
   "metadata": {},
   "outputs": [],
   "source": []
  },
  {
   "cell_type": "code",
   "execution_count": null,
   "metadata": {},
   "outputs": [],
   "source": []
  },
  {
   "cell_type": "code",
   "execution_count": null,
   "metadata": {},
   "outputs": [],
   "source": []
  },
  {
   "cell_type": "code",
   "execution_count": null,
   "metadata": {},
   "outputs": [],
   "source": []
  },
  {
   "cell_type": "code",
   "execution_count": null,
   "metadata": {},
   "outputs": [],
   "source": []
  },
  {
   "cell_type": "code",
   "execution_count": null,
   "metadata": {},
   "outputs": [],
   "source": []
  },
  {
   "cell_type": "code",
   "execution_count": null,
   "metadata": {},
   "outputs": [],
   "source": []
  },
  {
   "cell_type": "code",
   "execution_count": null,
   "metadata": {},
   "outputs": [],
   "source": []
  },
  {
   "cell_type": "code",
   "execution_count": null,
   "metadata": {},
   "outputs": [],
   "source": []
  }
 ],
 "metadata": {
  "kernelspec": {
   "display_name": "Python 3",
   "language": "python",
   "name": "python3"
  },
  "language_info": {
   "codemirror_mode": {
    "name": "ipython",
    "version": 3
   },
   "file_extension": ".py",
   "mimetype": "text/x-python",
   "name": "python",
   "nbconvert_exporter": "python",
   "pygments_lexer": "ipython3",
   "version": "3.6.4"
  }
 },
 "nbformat": 4,
 "nbformat_minor": 2
}
